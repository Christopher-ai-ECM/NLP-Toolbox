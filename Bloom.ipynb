{
  "nbformat": 4,
  "nbformat_minor": 0,
  "metadata": {
    "colab": {
      "provenance": []
    },
    "kernelspec": {
      "name": "python3",
      "display_name": "Python 3"
    },
    "language_info": {
      "name": "python"
    },
    "accelerator": "GPU",
    "gpuClass": "standard",
    "widgets": {
      "application/vnd.jupyter.widget-state+json": {
        "5c4a3eeb283a4d67845c86a2541d635a": {
          "model_module": "@jupyter-widgets/controls",
          "model_name": "VBoxModel",
          "model_module_version": "1.5.0",
          "state": {
            "_dom_classes": [],
            "_model_module": "@jupyter-widgets/controls",
            "_model_module_version": "1.5.0",
            "_model_name": "VBoxModel",
            "_view_count": null,
            "_view_module": "@jupyter-widgets/controls",
            "_view_module_version": "1.5.0",
            "_view_name": "VBoxView",
            "box_style": "",
            "children": [
              "IPY_MODEL_c9118c4d25f7476aab21d1a7a4517be9",
              "IPY_MODEL_401cfe8e30ba43239a0b2d9daa5f9dc9",
              "IPY_MODEL_d418625de2504133b3baf684e5f8670d",
              "IPY_MODEL_3e2ae0510ee14ed0b321f1b7b740a7f6",
              "IPY_MODEL_4568c7bcef564f8dbe52c5fb9a8b3804"
            ],
            "layout": "IPY_MODEL_578427b4de7d40bcb4453043b5a8a7da"
          }
        },
        "c9118c4d25f7476aab21d1a7a4517be9": {
          "model_module": "@jupyter-widgets/controls",
          "model_name": "HTMLModel",
          "model_module_version": "1.5.0",
          "state": {
            "_dom_classes": [],
            "_model_module": "@jupyter-widgets/controls",
            "_model_module_version": "1.5.0",
            "_model_name": "HTMLModel",
            "_view_count": null,
            "_view_module": "@jupyter-widgets/controls",
            "_view_module_version": "1.5.0",
            "_view_name": "HTMLView",
            "description": "",
            "description_tooltip": null,
            "layout": "IPY_MODEL_5708c8fe9a2843b9829d2bffac097451",
            "placeholder": "​",
            "style": "IPY_MODEL_8ad722ca309a4e11aee2c24523541970",
            "value": "<center> <img\nsrc=https://huggingface.co/front/assets/huggingface_logo-noborder.svg\nalt='Hugging Face'> <br> Copy a token from <a\nhref=\"https://huggingface.co/settings/tokens\" target=\"_blank\">your Hugging Face\ntokens page</a> and paste it below. <br> Immediately click login after copying\nyour token or it might be stored in plain text in this notebook file. </center>"
          }
        },
        "401cfe8e30ba43239a0b2d9daa5f9dc9": {
          "model_module": "@jupyter-widgets/controls",
          "model_name": "PasswordModel",
          "model_module_version": "1.5.0",
          "state": {
            "_dom_classes": [],
            "_model_module": "@jupyter-widgets/controls",
            "_model_module_version": "1.5.0",
            "_model_name": "PasswordModel",
            "_view_count": null,
            "_view_module": "@jupyter-widgets/controls",
            "_view_module_version": "1.5.0",
            "_view_name": "PasswordView",
            "continuous_update": true,
            "description": "Token:",
            "description_tooltip": null,
            "disabled": false,
            "layout": "IPY_MODEL_89acff5b30f64529b09df6f4fe46fb7b",
            "placeholder": "​",
            "style": "IPY_MODEL_171e872c41364b4b9dad36da709aee49",
            "value": ""
          }
        },
        "d418625de2504133b3baf684e5f8670d": {
          "model_module": "@jupyter-widgets/controls",
          "model_name": "CheckboxModel",
          "model_module_version": "1.5.0",
          "state": {
            "_dom_classes": [],
            "_model_module": "@jupyter-widgets/controls",
            "_model_module_version": "1.5.0",
            "_model_name": "CheckboxModel",
            "_view_count": null,
            "_view_module": "@jupyter-widgets/controls",
            "_view_module_version": "1.5.0",
            "_view_name": "CheckboxView",
            "description": "Add token as git credential?",
            "description_tooltip": null,
            "disabled": false,
            "indent": true,
            "layout": "IPY_MODEL_397f6c4d54fe4ff7b227f418d0a5dcdd",
            "style": "IPY_MODEL_71c618dedfcd4e6387dbbdb6d5789c6b",
            "value": true
          }
        },
        "3e2ae0510ee14ed0b321f1b7b740a7f6": {
          "model_module": "@jupyter-widgets/controls",
          "model_name": "ButtonModel",
          "model_module_version": "1.5.0",
          "state": {
            "_dom_classes": [],
            "_model_module": "@jupyter-widgets/controls",
            "_model_module_version": "1.5.0",
            "_model_name": "ButtonModel",
            "_view_count": null,
            "_view_module": "@jupyter-widgets/controls",
            "_view_module_version": "1.5.0",
            "_view_name": "ButtonView",
            "button_style": "",
            "description": "Login",
            "disabled": false,
            "icon": "",
            "layout": "IPY_MODEL_f36cddfc8b7849d0b5959a11a704b013",
            "style": "IPY_MODEL_cc6c6d83e5ae48d68471aa4fa9b32c09",
            "tooltip": ""
          }
        },
        "4568c7bcef564f8dbe52c5fb9a8b3804": {
          "model_module": "@jupyter-widgets/controls",
          "model_name": "HTMLModel",
          "model_module_version": "1.5.0",
          "state": {
            "_dom_classes": [],
            "_model_module": "@jupyter-widgets/controls",
            "_model_module_version": "1.5.0",
            "_model_name": "HTMLModel",
            "_view_count": null,
            "_view_module": "@jupyter-widgets/controls",
            "_view_module_version": "1.5.0",
            "_view_name": "HTMLView",
            "description": "",
            "description_tooltip": null,
            "layout": "IPY_MODEL_5e9bd5997be743f6a2a5d4f56599b39c",
            "placeholder": "​",
            "style": "IPY_MODEL_070beb592d0b4bdf8d62e9bb9e854250",
            "value": "\n<b>Pro Tip:</b> If you don't already have one, you can create a dedicated\n'notebooks' token with 'write' access, that you can then easily reuse for all\nnotebooks. </center>"
          }
        },
        "578427b4de7d40bcb4453043b5a8a7da": {
          "model_module": "@jupyter-widgets/base",
          "model_name": "LayoutModel",
          "model_module_version": "1.2.0",
          "state": {
            "_model_module": "@jupyter-widgets/base",
            "_model_module_version": "1.2.0",
            "_model_name": "LayoutModel",
            "_view_count": null,
            "_view_module": "@jupyter-widgets/base",
            "_view_module_version": "1.2.0",
            "_view_name": "LayoutView",
            "align_content": null,
            "align_items": "center",
            "align_self": null,
            "border": null,
            "bottom": null,
            "display": "flex",
            "flex": null,
            "flex_flow": "column",
            "grid_area": null,
            "grid_auto_columns": null,
            "grid_auto_flow": null,
            "grid_auto_rows": null,
            "grid_column": null,
            "grid_gap": null,
            "grid_row": null,
            "grid_template_areas": null,
            "grid_template_columns": null,
            "grid_template_rows": null,
            "height": null,
            "justify_content": null,
            "justify_items": null,
            "left": null,
            "margin": null,
            "max_height": null,
            "max_width": null,
            "min_height": null,
            "min_width": null,
            "object_fit": null,
            "object_position": null,
            "order": null,
            "overflow": null,
            "overflow_x": null,
            "overflow_y": null,
            "padding": null,
            "right": null,
            "top": null,
            "visibility": null,
            "width": "50%"
          }
        },
        "5708c8fe9a2843b9829d2bffac097451": {
          "model_module": "@jupyter-widgets/base",
          "model_name": "LayoutModel",
          "model_module_version": "1.2.0",
          "state": {
            "_model_module": "@jupyter-widgets/base",
            "_model_module_version": "1.2.0",
            "_model_name": "LayoutModel",
            "_view_count": null,
            "_view_module": "@jupyter-widgets/base",
            "_view_module_version": "1.2.0",
            "_view_name": "LayoutView",
            "align_content": null,
            "align_items": null,
            "align_self": null,
            "border": null,
            "bottom": null,
            "display": null,
            "flex": null,
            "flex_flow": null,
            "grid_area": null,
            "grid_auto_columns": null,
            "grid_auto_flow": null,
            "grid_auto_rows": null,
            "grid_column": null,
            "grid_gap": null,
            "grid_row": null,
            "grid_template_areas": null,
            "grid_template_columns": null,
            "grid_template_rows": null,
            "height": null,
            "justify_content": null,
            "justify_items": null,
            "left": null,
            "margin": null,
            "max_height": null,
            "max_width": null,
            "min_height": null,
            "min_width": null,
            "object_fit": null,
            "object_position": null,
            "order": null,
            "overflow": null,
            "overflow_x": null,
            "overflow_y": null,
            "padding": null,
            "right": null,
            "top": null,
            "visibility": null,
            "width": null
          }
        },
        "8ad722ca309a4e11aee2c24523541970": {
          "model_module": "@jupyter-widgets/controls",
          "model_name": "DescriptionStyleModel",
          "model_module_version": "1.5.0",
          "state": {
            "_model_module": "@jupyter-widgets/controls",
            "_model_module_version": "1.5.0",
            "_model_name": "DescriptionStyleModel",
            "_view_count": null,
            "_view_module": "@jupyter-widgets/base",
            "_view_module_version": "1.2.0",
            "_view_name": "StyleView",
            "description_width": ""
          }
        },
        "89acff5b30f64529b09df6f4fe46fb7b": {
          "model_module": "@jupyter-widgets/base",
          "model_name": "LayoutModel",
          "model_module_version": "1.2.0",
          "state": {
            "_model_module": "@jupyter-widgets/base",
            "_model_module_version": "1.2.0",
            "_model_name": "LayoutModel",
            "_view_count": null,
            "_view_module": "@jupyter-widgets/base",
            "_view_module_version": "1.2.0",
            "_view_name": "LayoutView",
            "align_content": null,
            "align_items": null,
            "align_self": null,
            "border": null,
            "bottom": null,
            "display": null,
            "flex": null,
            "flex_flow": null,
            "grid_area": null,
            "grid_auto_columns": null,
            "grid_auto_flow": null,
            "grid_auto_rows": null,
            "grid_column": null,
            "grid_gap": null,
            "grid_row": null,
            "grid_template_areas": null,
            "grid_template_columns": null,
            "grid_template_rows": null,
            "height": null,
            "justify_content": null,
            "justify_items": null,
            "left": null,
            "margin": null,
            "max_height": null,
            "max_width": null,
            "min_height": null,
            "min_width": null,
            "object_fit": null,
            "object_position": null,
            "order": null,
            "overflow": null,
            "overflow_x": null,
            "overflow_y": null,
            "padding": null,
            "right": null,
            "top": null,
            "visibility": null,
            "width": null
          }
        },
        "171e872c41364b4b9dad36da709aee49": {
          "model_module": "@jupyter-widgets/controls",
          "model_name": "DescriptionStyleModel",
          "model_module_version": "1.5.0",
          "state": {
            "_model_module": "@jupyter-widgets/controls",
            "_model_module_version": "1.5.0",
            "_model_name": "DescriptionStyleModel",
            "_view_count": null,
            "_view_module": "@jupyter-widgets/base",
            "_view_module_version": "1.2.0",
            "_view_name": "StyleView",
            "description_width": ""
          }
        },
        "397f6c4d54fe4ff7b227f418d0a5dcdd": {
          "model_module": "@jupyter-widgets/base",
          "model_name": "LayoutModel",
          "model_module_version": "1.2.0",
          "state": {
            "_model_module": "@jupyter-widgets/base",
            "_model_module_version": "1.2.0",
            "_model_name": "LayoutModel",
            "_view_count": null,
            "_view_module": "@jupyter-widgets/base",
            "_view_module_version": "1.2.0",
            "_view_name": "LayoutView",
            "align_content": null,
            "align_items": null,
            "align_self": null,
            "border": null,
            "bottom": null,
            "display": null,
            "flex": null,
            "flex_flow": null,
            "grid_area": null,
            "grid_auto_columns": null,
            "grid_auto_flow": null,
            "grid_auto_rows": null,
            "grid_column": null,
            "grid_gap": null,
            "grid_row": null,
            "grid_template_areas": null,
            "grid_template_columns": null,
            "grid_template_rows": null,
            "height": null,
            "justify_content": null,
            "justify_items": null,
            "left": null,
            "margin": null,
            "max_height": null,
            "max_width": null,
            "min_height": null,
            "min_width": null,
            "object_fit": null,
            "object_position": null,
            "order": null,
            "overflow": null,
            "overflow_x": null,
            "overflow_y": null,
            "padding": null,
            "right": null,
            "top": null,
            "visibility": null,
            "width": null
          }
        },
        "71c618dedfcd4e6387dbbdb6d5789c6b": {
          "model_module": "@jupyter-widgets/controls",
          "model_name": "DescriptionStyleModel",
          "model_module_version": "1.5.0",
          "state": {
            "_model_module": "@jupyter-widgets/controls",
            "_model_module_version": "1.5.0",
            "_model_name": "DescriptionStyleModel",
            "_view_count": null,
            "_view_module": "@jupyter-widgets/base",
            "_view_module_version": "1.2.0",
            "_view_name": "StyleView",
            "description_width": ""
          }
        },
        "f36cddfc8b7849d0b5959a11a704b013": {
          "model_module": "@jupyter-widgets/base",
          "model_name": "LayoutModel",
          "model_module_version": "1.2.0",
          "state": {
            "_model_module": "@jupyter-widgets/base",
            "_model_module_version": "1.2.0",
            "_model_name": "LayoutModel",
            "_view_count": null,
            "_view_module": "@jupyter-widgets/base",
            "_view_module_version": "1.2.0",
            "_view_name": "LayoutView",
            "align_content": null,
            "align_items": null,
            "align_self": null,
            "border": null,
            "bottom": null,
            "display": null,
            "flex": null,
            "flex_flow": null,
            "grid_area": null,
            "grid_auto_columns": null,
            "grid_auto_flow": null,
            "grid_auto_rows": null,
            "grid_column": null,
            "grid_gap": null,
            "grid_row": null,
            "grid_template_areas": null,
            "grid_template_columns": null,
            "grid_template_rows": null,
            "height": null,
            "justify_content": null,
            "justify_items": null,
            "left": null,
            "margin": null,
            "max_height": null,
            "max_width": null,
            "min_height": null,
            "min_width": null,
            "object_fit": null,
            "object_position": null,
            "order": null,
            "overflow": null,
            "overflow_x": null,
            "overflow_y": null,
            "padding": null,
            "right": null,
            "top": null,
            "visibility": null,
            "width": null
          }
        },
        "cc6c6d83e5ae48d68471aa4fa9b32c09": {
          "model_module": "@jupyter-widgets/controls",
          "model_name": "ButtonStyleModel",
          "model_module_version": "1.5.0",
          "state": {
            "_model_module": "@jupyter-widgets/controls",
            "_model_module_version": "1.5.0",
            "_model_name": "ButtonStyleModel",
            "_view_count": null,
            "_view_module": "@jupyter-widgets/base",
            "_view_module_version": "1.2.0",
            "_view_name": "StyleView",
            "button_color": null,
            "font_weight": ""
          }
        },
        "5e9bd5997be743f6a2a5d4f56599b39c": {
          "model_module": "@jupyter-widgets/base",
          "model_name": "LayoutModel",
          "model_module_version": "1.2.0",
          "state": {
            "_model_module": "@jupyter-widgets/base",
            "_model_module_version": "1.2.0",
            "_model_name": "LayoutModel",
            "_view_count": null,
            "_view_module": "@jupyter-widgets/base",
            "_view_module_version": "1.2.0",
            "_view_name": "LayoutView",
            "align_content": null,
            "align_items": null,
            "align_self": null,
            "border": null,
            "bottom": null,
            "display": null,
            "flex": null,
            "flex_flow": null,
            "grid_area": null,
            "grid_auto_columns": null,
            "grid_auto_flow": null,
            "grid_auto_rows": null,
            "grid_column": null,
            "grid_gap": null,
            "grid_row": null,
            "grid_template_areas": null,
            "grid_template_columns": null,
            "grid_template_rows": null,
            "height": null,
            "justify_content": null,
            "justify_items": null,
            "left": null,
            "margin": null,
            "max_height": null,
            "max_width": null,
            "min_height": null,
            "min_width": null,
            "object_fit": null,
            "object_position": null,
            "order": null,
            "overflow": null,
            "overflow_x": null,
            "overflow_y": null,
            "padding": null,
            "right": null,
            "top": null,
            "visibility": null,
            "width": null
          }
        },
        "070beb592d0b4bdf8d62e9bb9e854250": {
          "model_module": "@jupyter-widgets/controls",
          "model_name": "DescriptionStyleModel",
          "model_module_version": "1.5.0",
          "state": {
            "_model_module": "@jupyter-widgets/controls",
            "_model_module_version": "1.5.0",
            "_model_name": "DescriptionStyleModel",
            "_view_count": null,
            "_view_module": "@jupyter-widgets/base",
            "_view_module_version": "1.2.0",
            "_view_name": "StyleView",
            "description_width": ""
          }
        }
      }
    }
  },
  "cells": [
    {
      "cell_type": "code",
      "execution_count": null,
      "metadata": {
        "id": "wVmIbv8AMxso",
        "colab": {
          "base_uri": "https://localhost:8080/"
        },
        "outputId": "b504e201-682a-427d-9996-c809d25363b3"
      },
      "outputs": [
        {
          "output_type": "stream",
          "name": "stdout",
          "text": [
            "Looking in indexes: https://pypi.org/simple, https://us-python.pkg.dev/colab-wheels/public/simple/\n",
            "Collecting huggingface_hub\n",
            "  Downloading huggingface_hub-0.13.2-py3-none-any.whl (199 kB)\n",
            "\u001b[2K     \u001b[90m━━━━━━━━━━━━━━━━━━━━━━━━━━━━━━━━━━━━━━━\u001b[0m \u001b[32m199.2/199.2 KB\u001b[0m \u001b[31m4.1 MB/s\u001b[0m eta \u001b[36m0:00:00\u001b[0m\n",
            "\u001b[?25hRequirement already satisfied: requests in /usr/local/lib/python3.9/dist-packages (from huggingface_hub) (2.27.1)\n",
            "Requirement already satisfied: packaging>=20.9 in /usr/local/lib/python3.9/dist-packages (from huggingface_hub) (23.0)\n",
            "Requirement already satisfied: tqdm>=4.42.1 in /usr/local/lib/python3.9/dist-packages (from huggingface_hub) (4.65.0)\n",
            "Requirement already satisfied: typing-extensions>=3.7.4.3 in /usr/local/lib/python3.9/dist-packages (from huggingface_hub) (4.5.0)\n",
            "Requirement already satisfied: filelock in /usr/local/lib/python3.9/dist-packages (from huggingface_hub) (3.10.0)\n",
            "Requirement already satisfied: pyyaml>=5.1 in /usr/local/lib/python3.9/dist-packages (from huggingface_hub) (6.0)\n",
            "Requirement already satisfied: idna<4,>=2.5 in /usr/local/lib/python3.9/dist-packages (from requests->huggingface_hub) (3.4)\n",
            "Requirement already satisfied: certifi>=2017.4.17 in /usr/local/lib/python3.9/dist-packages (from requests->huggingface_hub) (2022.12.7)\n",
            "Requirement already satisfied: charset-normalizer~=2.0.0 in /usr/local/lib/python3.9/dist-packages (from requests->huggingface_hub) (2.0.12)\n",
            "Requirement already satisfied: urllib3<1.27,>=1.21.1 in /usr/local/lib/python3.9/dist-packages (from requests->huggingface_hub) (1.26.15)\n",
            "Installing collected packages: huggingface_hub\n",
            "Successfully installed huggingface_hub-0.13.2\n"
          ]
        }
      ],
      "source": [
        "# requirements:\n",
        "!pip install huggingface_hub\n",
        "!git config --global credential.helper store"
      ]
    },
    {
      "cell_type": "code",
      "source": [
        "from google.colab import drive\n",
        "drive.mount('/content/drive',force_remount=True)"
      ],
      "metadata": {
        "colab": {
          "base_uri": "https://localhost:8080/"
        },
        "id": "vX-hB7Oaqjwt",
        "outputId": "a6c9942a-e7e5-4126-cd51-99b0802b5086"
      },
      "execution_count": null,
      "outputs": [
        {
          "output_type": "stream",
          "name": "stdout",
          "text": [
            "Mounted at /content/drive\n"
          ]
        }
      ]
    },
    {
      "cell_type": "code",
      "source": [
        "file_path = '/content/drive/MyDrive/check/prono.txt'\n",
        "\n",
        "# Lire le contenu du fichier\n",
        "with open(file_path, 'r') as f:\n",
        "  content = f.read()\n",
        "  print(content)"
      ],
      "metadata": {
        "colab": {
          "base_uri": "https://localhost:8080/"
        },
        "id": "cQL8K6tUqnVZ",
        "outputId": "3d0a9d08-7cde-4fb1-93f6-84dd6134edeb"
      },
      "execution_count": null,
      "outputs": [
        {
          "output_type": "stream",
          "name": "stdout",
          "text": [
            "﻿samedi 18 mars 2023 à 17H00 sportifs ( 301 ) Résultats 2022/2023 Veuillez renseigner un nom d' utilisateur . Vous ne pouvez pas poster de commentaire vide . Mise à jour : 18/03/2023 à Toulouse , en milieu de tableau , n' a plus grand chose à espérer de cette fin de saison en 1 , tandis que Lille peut s' inviter dans le 5 . Petit avantage Lille au niveau de la motivation L' objectif prioritaire de Toulouse était d' assurer son maintien à l' occasion de son retour dans l' élite . Cela est quasiment scellé pour le promu , qui occupe le ventre mou du classement ( 11ème ) à entre le 5 et la zone de relégation . Ainsi , le n' aura certainement pas les armes pour convoiter un ticket européen mais il reporte désormais presque tous ses espoirs sur la Coupe de , dont il est ( déplacement à début avril ) . Pour ce qui est du championnat , les Toulousains ont stoppé une mauvaise passe de 3 défaites dimanche dernier en se rendant chez la lanterne rouge , ( ) . Votre 1er pari de 100 € remboursé en CASH chez PMU en cliquant sur ce lienRécupérez vos 100 € et directement sur votre compte bancaire si le pari est perdant Le LOSC réalise une saison intéressante mais pas encore assez solide au niveau des résultats pour s' assurer une participation à une coupe d' à partir de septembre . 6èmes , les Dogues devront finir dans le 5 pour gagner ce privilège . Vainqueur de Brest ( ) et auteur d' un bon nul à dans le derby ( ) , le club nordiste a ensuite concédé à domicile un nul frustrant en ouverture de la journée précédente contre ( ) . Un résultat qui peut résumer les limites de et compagnie cette saison . Alors qu' ils menaient , ils ont été rejoints au score dans le dernier quart d' heure et ont laissé filer 2 points précieux dans la course à l' . Avantage Lille sur la forme Le enchaîne une nouvelle partie sans son attaquant britannique . Le meilleur buteur de la dernière saison de 2 est en phase de reprise et vise un retour à la compétition au retour de la trêve . Comme bien souvent , tous les autres Toulousains devraient postuler dont le ( 4 buts et 4 passes ) qui vient d' opter pour la sélection algérienne et le finisseur maison , auteur à de son 10ème but de la saison en 1 . L' immuable trio ( capitaine ) , Spierings et van den ( 5 buts et 7 passes ) devrait être reconduit au milieu de terrain pour donner le tempo . Lille doit faire avec des problèmes majeurs dans sa ligne défensive , laquelle est privée de 3 de ses 4 titulaires habituels . C' est le cas des latéraux ( gauche ) et Diakité ( droite , ancien ) mais également du central , qui s' est rompu les ligaments croisés du genou à et manquera la fin de saison . Absence également du milieu cadre ( suspendu ) , plaque tournante de cette équipe . d' une blessure , le capitaine devrait retrouver sa place dans la charnière . Le triplé de l' incontournable ( 19 buts en 1 ) , buteur du championnat , n' a pas suffi contre . Le , buteur à l' aller , représentera encore un gros danger pour la défense locale . Pas d' avantage sur le papier La composition probable de Toulouse : , , , den , , , , ( ou Ratão).Absent : ( : . Toulouse ( -3 ) Dupe Weah Gomes David Lille ( ) La composition probable de Lille : , , , , , , .Absents : , Diakité , ( blessés ) , ( suspendu).Incertain : . Lille n' a remporté qu' un seul de ses 5 derniers déplacements en championnat . Le LOSC doit composer avec une défense décimée par les blessures . Malgré ses deux derniers échecs ( contre l' OM et Clermont ) à domicile , Toulouse reste une équipe difficile à bouger dans son Stadium . Les Violets peuvent repartir de l' avant , du moins ne pas perdre contre Lille qui reste sur deux partages de points . Toulouse ne cède pas par exemple sur le pari \" Toulouse ou nul \" ( cote à 1,66 ) pour tenter de gagner 16€- chez ZEbet et récupérez 100 € de DIRECT chez ! - bien le code au moment de votre inscription ! - Vous obtenez le doublement de votre dépôt DIRECTEMENT en ! - par exemple 100 € et misez avec 200 € ! - Misez par exemple vos 100 € déposés ( + les 100 € de\n"
          ]
        }
      ]
    },
    {
      "cell_type": "code",
      "source": [
        "from huggingface_hub import notebook_login\n",
        "from huggingface_hub import HfFolder\n",
        "\n",
        "\n",
        "#enter your API key, you can make one for free on HF\n",
        "notebook_login()"
      ],
      "metadata": {
        "id": "o5x0FcbSQEnU",
        "colab": {
          "base_uri": "https://localhost:8080/",
          "height": 358,
          "referenced_widgets": [
            "5c4a3eeb283a4d67845c86a2541d635a",
            "c9118c4d25f7476aab21d1a7a4517be9",
            "401cfe8e30ba43239a0b2d9daa5f9dc9",
            "d418625de2504133b3baf684e5f8670d",
            "3e2ae0510ee14ed0b321f1b7b740a7f6",
            "4568c7bcef564f8dbe52c5fb9a8b3804",
            "578427b4de7d40bcb4453043b5a8a7da",
            "5708c8fe9a2843b9829d2bffac097451",
            "8ad722ca309a4e11aee2c24523541970",
            "89acff5b30f64529b09df6f4fe46fb7b",
            "171e872c41364b4b9dad36da709aee49",
            "397f6c4d54fe4ff7b227f418d0a5dcdd",
            "71c618dedfcd4e6387dbbdb6d5789c6b",
            "f36cddfc8b7849d0b5959a11a704b013",
            "cc6c6d83e5ae48d68471aa4fa9b32c09",
            "5e9bd5997be743f6a2a5d4f56599b39c",
            "070beb592d0b4bdf8d62e9bb9e854250"
          ]
        },
        "outputId": "baee875b-c400-4367-cda2-7ec198135361"
      },
      "execution_count": null,
      "outputs": [
        {
          "output_type": "display_data",
          "data": {
            "text/plain": [
              "VBox(children=(HTML(value='<center> <img\\nsrc=https://huggingface.co/front/assets/huggingface_logo-noborder.sv…"
            ],
            "application/vnd.jupyter.widget-view+json": {
              "version_major": 2,
              "version_minor": 0,
              "model_id": "5c4a3eeb283a4d67845c86a2541d635a"
            }
          },
          "metadata": {}
        }
      ]
    },
    {
      "cell_type": "code",
      "source": [
        "from huggingface_hub import InferenceApi\n",
        "\n",
        "inference = InferenceApi(\"bigscience/bloom\",token=HfFolder.get_token())"
      ],
      "metadata": {
        "id": "Bn2N3Wk9QQup"
      },
      "execution_count": null,
      "outputs": []
    },
    {
      "cell_type": "code",
      "source": [
        "import time\n",
        "\n",
        "def infer(prompt,\n",
        "          max_length = 256, #32 au début\n",
        "          top_k = 0,\n",
        "          num_beams = 0,\n",
        "          no_repeat_ngram_size = 2,\n",
        "          top_p = 0.9,\n",
        "          seed=42,\n",
        "          temperature=0.9,\n",
        "          greedy_decoding = False,\n",
        "          return_full_text = False):\n",
        "    \n",
        "\n",
        "    top_k = None if top_k == 0 else top_k\n",
        "    do_sample = False if num_beams > 0 else not greedy_decoding\n",
        "    num_beams = None if (greedy_decoding or num_beams == 0) else num_beams\n",
        "    no_repeat_ngram_size = None if num_beams is None else no_repeat_ngram_size\n",
        "    top_p = None if num_beams else top_p\n",
        "    early_stopping = None if num_beams is None else num_beams > 0\n",
        "\n",
        "    params = {\n",
        "        \"max_new_tokens\": max_length,\n",
        "        \"top_k\": top_k,\n",
        "        \"top_p\": top_p,\n",
        "        \"temperature\": temperature,\n",
        "        \"do_sample\": do_sample,\n",
        "        \"seed\": seed,\n",
        "        \"early_stopping\":early_stopping,\n",
        "        \"no_repeat_ngram_size\":no_repeat_ngram_size,\n",
        "        \"num_beams\":num_beams,\n",
        "        #\"raw_response\":True,\n",
        "        \"return_full_text\":return_full_text\n",
        "        }\n",
        "\n",
        "#\"return_full_text\":return_full_text\n",
        "    s = time.time()\n",
        "    response = inference(prompt, params=params)\n",
        "    #print(response)\n",
        "    proc_time = time.time()-s\n",
        "    #print(f\"Processing time was {proc_time} seconds\")\n",
        "    return response"
      ],
      "metadata": {
        "id": "40nQbR-HQdSy"
      },
      "execution_count": null,
      "outputs": []
    },
    {
      "cell_type": "code",
      "source": [
        "prompt = content\n"
      ],
      "metadata": {
        "id": "CMo5IWxJmIMJ"
      },
      "execution_count": null,
      "outputs": []
    },
    {
      "cell_type": "code",
      "source": [
        "#prompt = \"The SQL command to extract all the users whose name starts with A is\"\n",
        "resp = infer(prompt)\n",
        "print(resp)"
      ],
      "metadata": {
        "id": "KtB5xRdrQkCb",
        "colab": {
          "base_uri": "https://localhost:8080/"
        },
        "outputId": "ef67a8a1-0a50-4d53-e399-57f1aa91afb2"
      },
      "execution_count": null,
      "outputs": [
        {
          "output_type": "stream",
          "name": "stdout",
          "text": [
            "[{'generated_text': ' les conditions de la mise remboursée en cas de résultat 1X2 si Lille ne marque pas? Avec la promo \"1er pari remboursé en CASH\" PMU du 18 au 21 mars, vous pouvez parier en toute sérénité. - Si vous pariez sur la victoire de Lille et que Lille gagne en marquant exactement un but : le pari est remboursé si le match se termine sur le score de 1-0, 2-1, 3-1, 3-2, 4-2, 4-3 ou encore 5-4. Pour cela, vous devrez avoir joué la mise minimale de 2€ (voir conditions sur Pariez sans risque en misant sur Lille vainqueur avec exactement un but de Lille : si vous faites partie des premiers à répondre juste, alors vous remportez 10 000€! Parier sur la victoire de Lille avec exactement un but de Lille. Il vous faudra parier un montant minimum de 2€ (une seule mise) sur la victoire de Lille sur Toulouse (cote minimale 1.30) entre le jeudi 17 mars à 20h et le dimanche 20 mars à 20h. PMU vous offre votre 1er pari remboursé en CASH en utilisant le code! Parier sur la victoire de Toulouse avec exactement un but de Toulouse. Parier sur la victoire de Lille avec exactement un but de'}]\n"
          ]
        }
      ]
    }
  ]
}